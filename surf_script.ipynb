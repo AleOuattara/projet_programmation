{
 "cells": [
  {
   "cell_type": "code",
   "execution_count": 1,
   "id": "2dfec67c-6aff-4fda-86b5-17ab9848ad13",
   "metadata": {},
   "outputs": [
    {
     "name": "stderr",
     "output_type": "stream",
     "text": [
      "DEPRECATION: Loading egg at c:\\users\\konta\\appdata\\local\\anaconda3\\lib\\site-packages\\surf_scrap-1.0-py3.12.egg is deprecated. pip 24.3 will enforce this behaviour change. A possible replacement is to use pip for package installation.. Discussion can be found at https://github.com/pypa/pip/issues/12330\n",
      "ERROR: Could not find a version that satisfies the requirement surf_scape (from versions: none)\n",
      "ERROR: No matching distribution found for surf_scape\n"
     ]
    }
   ],
   "source": [
    "!pip install surf_scape"
   ]
  },
  {
   "cell_type": "code",
   "execution_count": 2,
   "id": "42ffe685-f81a-4bd8-af2b-dd12300a26d1",
   "metadata": {},
   "outputs": [],
   "source": [
    "url = \"https://www.surf-report.com/meteo-surf/lacanau-s1043.html\""
   ]
  },
  {
   "cell_type": "code",
   "execution_count": 3,
   "id": "4d5f7096-7f57-488e-8e44-389820bc0d67",
   "metadata": {},
   "outputs": [],
   "source": [
    "from surf_scrape.wget import wget_data\n",
    "import pandas as pd"
   ]
  },
  {
   "cell_type": "code",
   "execution_count": 4,
   "id": "27f2fdc6-1a57-4ea6-9844-d3a0089b4599",
   "metadata": {},
   "outputs": [],
   "source": [
    "a = wget_data(url, None)\n",
    "a"
   ]
  },
  {
   "cell_type": "code",
   "execution_count": 9,
   "id": "5d200b48-a93c-4fa9-aeda-da0b715bab11",
   "metadata": {},
   "outputs": [
    {
     "ename": "NameError",
     "evalue": "name 'a' is not defined",
     "output_type": "error",
     "traceback": [
      "\u001b[1;31m---------------------------------------------------------------------------\u001b[0m",
      "\u001b[1;31mNameError\u001b[0m                                 Traceback (most recent call last)",
      "Cell \u001b[1;32mIn[9], line 1\u001b[0m\n\u001b[1;32m----> 1\u001b[0m a\n",
      "\u001b[1;31mNameError\u001b[0m: name 'a' is not defined"
     ]
    }
   ],
   "source": [
    "a"
   ]
  }
 ],
 "metadata": {
  "kernelspec": {
   "display_name": "Python 3 (ipykernel)",
   "language": "python",
   "name": "python3"
  },
  "language_info": {
   "codemirror_mode": {
    "name": "ipython",
    "version": 3
   },
   "file_extension": ".py",
   "mimetype": "text/x-python",
   "name": "python",
   "nbconvert_exporter": "python",
   "pygments_lexer": "ipython3",
   "version": "3.12.4"
  }
 },
 "nbformat": 4,
 "nbformat_minor": 5
}
